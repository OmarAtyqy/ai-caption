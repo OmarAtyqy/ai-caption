{
 "cells": [
  {
   "cell_type": "code",
   "execution_count": 1,
   "metadata": {},
   "outputs": [
    {
     "name": "stdout",
     "output_type": "stream",
     "text": [
      "The autoreload extension is already loaded. To reload it, use:\n",
      "  %reload_ext autoreload\n"
     ]
    }
   ],
   "source": [
    "# enable auto reload of modules\n",
    "%load_ext autoreload\n",
    "%autoreload 2"
   ]
  },
  {
   "cell_type": "markdown",
   "metadata": {},
   "source": [
    "# Model Training"
   ]
  },
  {
   "cell_type": "markdown",
   "metadata": {},
   "source": [
    "This notebook will be used to load and preprocess the data, as well as train our own captioning model from scratch. If you want to use the model directly, please refer to the `main.py` file."
   ]
  },
  {
   "cell_type": "markdown",
   "metadata": {},
   "source": [
    "This notebook was made to be modular, in such a way that you can run only the section that you want. However, some sections may require the output of the previous section to work properly."
   ]
  },
  {
   "cell_type": "markdown",
   "metadata": {},
   "source": [
    "## 1 - Loading captions"
   ]
  },
  {
   "cell_type": "code",
   "execution_count": 29,
   "metadata": {},
   "outputs": [],
   "source": [
    "from src.utils.captions_utils import *"
   ]
  },
  {
   "cell_type": "code",
   "execution_count": 15,
   "metadata": {},
   "outputs": [],
   "source": [
    "# load the annotation data\n",
    "df = load_raw_captions_data(\"./data/captions.csv\")"
   ]
  },
  {
   "cell_type": "code",
   "execution_count": 16,
   "metadata": {},
   "outputs": [],
   "source": [
    "# generate the caption dictionary\n",
    "captions_dic = generate_captions_dic(df)"
   ]
  },
  {
   "cell_type": "code",
   "execution_count": 17,
   "metadata": {},
   "outputs": [
    {
     "name": "stdout",
     "output_type": "stream",
     "text": [
      "Number of images: 31783\n",
      "Number of captions per image: 5\n",
      "Total number of captions: 158915\n"
     ]
    }
   ],
   "source": [
    "# print info about the caption dictionary\n",
    "n_images = len(captions_dic)\n",
    "n_captions_per_image = len(next(iter(captions_dic.values())))\n",
    "n_captions = n_images * n_captions_per_image\n",
    "\n",
    "print(f\"Number of images: {n_images}\")\n",
    "print(f\"Number of captions per image: {n_captions_per_image}\")\n",
    "print(f\"Total number of captions: {n_captions}\")"
   ]
  },
  {
   "cell_type": "code",
   "execution_count": 22,
   "metadata": {},
   "outputs": [
    {
     "name": "stderr",
     "output_type": "stream",
     "text": [
      "100%|██████████| 31783/31783 [00:00<00:00, 62322.14it/s]\n"
     ]
    }
   ],
   "source": [
    "# clean the captions by removing any special characters and converting to lower case\n",
    "captions_dic = clean_captions(captions_dic)"
   ]
  },
  {
   "cell_type": "code",
   "execution_count": 23,
   "metadata": {},
   "outputs": [
    {
     "name": "stdout",
     "output_type": "stream",
     "text": [
      "Captions for the first image:\n",
      "two young guys with shaggy hair look at their hands while hanging out in the yard\n",
      "two young white males are outside near many bushes\n",
      "two men in green shirts are standing in a yard\n",
      "a man in a blue shirt standing in a garden\n",
      "two friends enjoy time spent together\n"
     ]
    }
   ],
   "source": [
    "# print tha captions for the first image\n",
    "print(f\"Captions for the first image:\")\n",
    "for cap in next(iter(captions_dic.values())):\n",
    "    print(cap)"
   ]
  },
  {
   "cell_type": "code",
   "execution_count": 27,
   "metadata": {},
   "outputs": [
    {
     "name": "stderr",
     "output_type": "stream",
     "text": [
      "100%|██████████| 31783/31783 [00:00<00:00, 168730.30it/s]"
     ]
    },
    {
     "name": "stdout",
     "output_type": "stream",
     "text": [
      "Vocabulary size: 18288 words\n"
     ]
    },
    {
     "name": "stderr",
     "output_type": "stream",
     "text": [
      "\n"
     ]
    }
   ],
   "source": [
    "# build the vocabulary, this will be used later on when training the LSTM model\n",
    "vocab = build_vocab(captions_dic)\n",
    "\n",
    "# print the size of the vocabulary\n",
    "print(f\"Vocabulary size: {len(vocab)} words\")"
   ]
  },
  {
   "cell_type": "code",
   "execution_count": 32,
   "metadata": {},
   "outputs": [],
   "source": [
    "# save the captions dictionary\n",
    "save_captions_dic(captions_dic, \"./data/\")"
   ]
  },
  {
   "cell_type": "markdown",
   "metadata": {},
   "source": [
    "## 2 - Image feature extraction"
   ]
  },
  {
   "cell_type": "markdown",
   "metadata": {},
   "source": [
    "For this section, we will be using mutliple pre-trained models to extract features from the images. The models that we will be using are:\n",
    "<ul>\n",
    "    <li>ResNet50</li>\n",
    "    <li>VGG16</li>\n",
    "    <li>InceptionV3</li>\n",
    "    <li>Xception</li>\n",
    "</ul>"
   ]
  },
  {
   "cell_type": "code",
   "execution_count": 1,
   "metadata": {},
   "outputs": [],
   "source": [
    "from src.encoders.xception import *\n",
    "from src.utils.image_utils import *\n",
    "from tensorflow.compat.v1 import ConfigProto\n",
    "from tensorflow.compat.v1 import InteractiveSession"
   ]
  },
  {
   "cell_type": "code",
   "execution_count": 2,
   "metadata": {},
   "outputs": [
    {
     "name": "stdout",
     "output_type": "stream",
     "text": [
      "GPU is available\n"
     ]
    }
   ],
   "source": [
    "# check if GPU is available and enable memory growth\n",
    "print(\"GPU is\", \"available\" if tf.config.list_physical_devices(\"GPU\") else \"NOT AVAILABLE\")\n",
    "config = ConfigProto()\n",
    "config.gpu_options.allow_growth = True\n",
    "session = InteractiveSession(config=config)"
   ]
  },
  {
   "cell_type": "code",
   "execution_count": 3,
   "metadata": {},
   "outputs": [],
   "source": [
    "# height and width and channels to which the images will be resized\n",
    "height = 128\n",
    "width = 128\n",
    "n_channels = 3"
   ]
  },
  {
   "cell_type": "code",
   "execution_count": 5,
   "metadata": {},
   "outputs": [
    {
     "name": "stderr",
     "output_type": "stream",
     "text": [
      "100%|██████████| 31783/31783 [03:12<00:00, 165.25it/s]\n"
     ]
    }
   ],
   "source": [
    "# load the images for the xcepion model using the xception preprocessor\n",
    "xception_images = load_images_from_folder(\"./data/images/\", image_size=(height, width), preprocess_input=tf.keras.applications.xception.preprocess_input)"
   ]
  },
  {
   "cell_type": "code",
   "execution_count": 6,
   "metadata": {},
   "outputs": [
    {
     "name": "stdout",
     "output_type": "stream",
     "text": [
      "Number of images loaded: 31783\n"
     ]
    }
   ],
   "source": [
    "print(f\"Number of images loaded: {len(xception_images)}\")"
   ]
  },
  {
   "cell_type": "code",
   "execution_count": 7,
   "metadata": {},
   "outputs": [],
   "source": [
    "# create the feature extractors\n",
    "feature_extractor = XceptionFeatureExtractor(input_shape=(height, width, n_channels))"
   ]
  },
  {
   "cell_type": "code",
   "execution_count": 10,
   "metadata": {},
   "outputs": [
    {
     "name": "stdout",
     "output_type": "stream",
     "text": [
      "Extracting features from images (0, 256) out of 31783...\n",
      "1/1 [==============================] - 7s 7s/step\n",
      "Extracting features from images (256, 512) out of 31783...\n",
      "1/1 [==============================] - 0s 42ms/step\n",
      "Extracting features from images (512, 768) out of 31783...\n",
      "1/1 [==============================] - 0s 40ms/step\n",
      "Extracting features from images (768, 1024) out of 31783...\n",
      "1/1 [==============================] - 0s 44ms/step\n",
      "Extracting features from images (1024, 1280) out of 31783...\n",
      "1/1 [==============================] - 0s 44ms/step\n",
      "Extracting features from images (1280, 1536) out of 31783...\n",
      "1/1 [==============================] - 0s 44ms/step\n",
      "Extracting features from images (1536, 1792) out of 31783...\n",
      "1/1 [==============================] - 0s 40ms/step\n",
      "Extracting features from images (1792, 2048) out of 31783...\n",
      "1/1 [==============================] - 0s 59ms/step\n",
      "Extracting features from images (2048, 2304) out of 31783...\n",
      "1/1 [==============================] - 0s 41ms/step\n",
      "Extracting features from images (2304, 2560) out of 31783...\n",
      "1/1 [==============================] - 0s 40ms/step\n",
      "Extracting features from images (2560, 2816) out of 31783...\n",
      "1/1 [==============================] - 0s 42ms/step\n",
      "Extracting features from images (2816, 3072) out of 31783...\n",
      "1/1 [==============================] - 0s 49ms/step\n",
      "Extracting features from images (3072, 3328) out of 31783...\n",
      "1/1 [==============================] - 0s 40ms/step\n",
      "Extracting features from images (3328, 3584) out of 31783...\n",
      "1/1 [==============================] - 0s 42ms/step\n",
      "Extracting features from images (3584, 3840) out of 31783...\n",
      "1/1 [==============================] - 0s 42ms/step\n",
      "Extracting features from images (3840, 4096) out of 31783...\n",
      "1/1 [==============================] - 0s 42ms/step\n",
      "Extracting features from images (4096, 4352) out of 31783...\n",
      "1/1 [==============================] - 0s 42ms/step\n",
      "Extracting features from images (4352, 4608) out of 31783...\n",
      "1/1 [==============================] - 0s 42ms/step\n",
      "Extracting features from images (4608, 4864) out of 31783...\n",
      "1/1 [==============================] - 0s 41ms/step\n",
      "Extracting features from images (4864, 5120) out of 31783...\n",
      "1/1 [==============================] - 0s 44ms/step\n",
      "Extracting features from images (5120, 5376) out of 31783...\n",
      "1/1 [==============================] - 0s 44ms/step\n",
      "Extracting features from images (5376, 5632) out of 31783...\n",
      "1/1 [==============================] - 0s 50ms/step\n",
      "Extracting features from images (5632, 5888) out of 31783...\n",
      "1/1 [==============================] - 0s 41ms/step\n",
      "Extracting features from images (5888, 6144) out of 31783...\n",
      "1/1 [==============================] - 0s 46ms/step\n",
      "Extracting features from images (6144, 6400) out of 31783...\n",
      "1/1 [==============================] - 0s 49ms/step\n",
      "Extracting features from images (6400, 6656) out of 31783...\n",
      "1/1 [==============================] - 0s 43ms/step\n",
      "Extracting features from images (6656, 6912) out of 31783...\n",
      "1/1 [==============================] - 0s 42ms/step\n",
      "Extracting features from images (6912, 7168) out of 31783...\n",
      "1/1 [==============================] - 0s 45ms/step\n",
      "Extracting features from images (7168, 7424) out of 31783...\n",
      "1/1 [==============================] - 0s 43ms/step\n",
      "Extracting features from images (7424, 7680) out of 31783...\n",
      "1/1 [==============================] - 0s 40ms/step\n",
      "Extracting features from images (7680, 7936) out of 31783...\n",
      "1/1 [==============================] - 0s 43ms/step\n",
      "Extracting features from images (7936, 8192) out of 31783...\n",
      "1/1 [==============================] - 0s 48ms/step\n",
      "Extracting features from images (8192, 8448) out of 31783...\n",
      "1/1 [==============================] - 0s 42ms/step\n",
      "Extracting features from images (8448, 8704) out of 31783...\n",
      "1/1 [==============================] - 0s 41ms/step\n",
      "Extracting features from images (8704, 8960) out of 31783...\n",
      "1/1 [==============================] - 0s 41ms/step\n",
      "Extracting features from images (8960, 9216) out of 31783...\n",
      "1/1 [==============================] - 0s 47ms/step\n",
      "Extracting features from images (9216, 9472) out of 31783...\n",
      "1/1 [==============================] - 0s 48ms/step\n",
      "Extracting features from images (9472, 9728) out of 31783...\n",
      "1/1 [==============================] - 0s 50ms/step\n",
      "Extracting features from images (9728, 9984) out of 31783...\n",
      "1/1 [==============================] - 0s 48ms/step\n",
      "Extracting features from images (9984, 10240) out of 31783...\n",
      "1/1 [==============================] - 0s 43ms/step\n",
      "Extracting features from images (10240, 10496) out of 31783...\n",
      "1/1 [==============================] - 0s 39ms/step\n",
      "Extracting features from images (10496, 10752) out of 31783...\n",
      "1/1 [==============================] - 0s 43ms/step\n",
      "Extracting features from images (10752, 11008) out of 31783...\n",
      "1/1 [==============================] - 0s 43ms/step\n",
      "Extracting features from images (11008, 11264) out of 31783...\n",
      "1/1 [==============================] - 0s 39ms/step\n",
      "Extracting features from images (11264, 11520) out of 31783...\n",
      "1/1 [==============================] - 0s 44ms/step\n",
      "Extracting features from images (11520, 11776) out of 31783...\n",
      "1/1 [==============================] - 0s 41ms/step\n",
      "Extracting features from images (11776, 12032) out of 31783...\n",
      "1/1 [==============================] - 0s 70ms/step\n",
      "Extracting features from images (12032, 12288) out of 31783...\n",
      "1/1 [==============================] - 0s 39ms/step\n",
      "Extracting features from images (12288, 12544) out of 31783...\n",
      "1/1 [==============================] - 0s 41ms/step\n",
      "Extracting features from images (12544, 12800) out of 31783...\n",
      "1/1 [==============================] - 0s 51ms/step\n",
      "Extracting features from images (12800, 13056) out of 31783...\n",
      "1/1 [==============================] - 0s 37ms/step\n",
      "Extracting features from images (13056, 13312) out of 31783...\n",
      "1/1 [==============================] - 0s 51ms/step\n",
      "Extracting features from images (13312, 13568) out of 31783...\n",
      "1/1 [==============================] - 0s 47ms/step\n",
      "Extracting features from images (13568, 13824) out of 31783...\n",
      "1/1 [==============================] - 0s 45ms/step\n",
      "Extracting features from images (13824, 14080) out of 31783...\n",
      "1/1 [==============================] - 0s 37ms/step\n",
      "Extracting features from images (14080, 14336) out of 31783...\n",
      "1/1 [==============================] - 0s 46ms/step\n",
      "Extracting features from images (14336, 14592) out of 31783...\n",
      "1/1 [==============================] - 0s 47ms/step\n",
      "Extracting features from images (14592, 14848) out of 31783...\n",
      "1/1 [==============================] - 0s 54ms/step\n",
      "Extracting features from images (14848, 15104) out of 31783...\n",
      "1/1 [==============================] - 0s 50ms/step\n",
      "Extracting features from images (15104, 15360) out of 31783...\n",
      "1/1 [==============================] - 0s 43ms/step\n",
      "Extracting features from images (15360, 15616) out of 31783...\n",
      "1/1 [==============================] - 0s 46ms/step\n",
      "Extracting features from images (15616, 15872) out of 31783...\n",
      "1/1 [==============================] - 0s 47ms/step\n",
      "Extracting features from images (15872, 16128) out of 31783...\n",
      "1/1 [==============================] - 0s 45ms/step\n",
      "Extracting features from images (16128, 16384) out of 31783...\n",
      "1/1 [==============================] - 0s 44ms/step\n",
      "Extracting features from images (16384, 16640) out of 31783...\n",
      "1/1 [==============================] - 0s 44ms/step\n",
      "Extracting features from images (16640, 16896) out of 31783...\n",
      "1/1 [==============================] - 0s 38ms/step\n",
      "Extracting features from images (16896, 17152) out of 31783...\n",
      "1/1 [==============================] - 0s 57ms/step\n",
      "Extracting features from images (17152, 17408) out of 31783...\n",
      "1/1 [==============================] - 0s 43ms/step\n",
      "Extracting features from images (17408, 17664) out of 31783...\n",
      "1/1 [==============================] - 0s 44ms/step\n",
      "Extracting features from images (17664, 17920) out of 31783...\n",
      "1/1 [==============================] - 0s 44ms/step\n",
      "Extracting features from images (17920, 18176) out of 31783...\n",
      "1/1 [==============================] - 0s 44ms/step\n",
      "Extracting features from images (18176, 18432) out of 31783...\n",
      "1/1 [==============================] - 0s 42ms/step\n",
      "Extracting features from images (18432, 18688) out of 31783...\n",
      "1/1 [==============================] - 0s 48ms/step\n",
      "Extracting features from images (18688, 18944) out of 31783...\n",
      "1/1 [==============================] - 0s 52ms/step\n",
      "Extracting features from images (18944, 19200) out of 31783...\n",
      "1/1 [==============================] - 0s 49ms/step\n",
      "Extracting features from images (19200, 19456) out of 31783...\n",
      "1/1 [==============================] - 0s 41ms/step\n",
      "Extracting features from images (19456, 19712) out of 31783...\n",
      "1/1 [==============================] - 0s 41ms/step\n",
      "Extracting features from images (19712, 19968) out of 31783...\n",
      "1/1 [==============================] - 0s 42ms/step\n",
      "Extracting features from images (19968, 20224) out of 31783...\n",
      "1/1 [==============================] - 0s 45ms/step\n",
      "Extracting features from images (20224, 20480) out of 31783...\n",
      "1/1 [==============================] - 0s 51ms/step\n",
      "Extracting features from images (20480, 20736) out of 31783...\n",
      "1/1 [==============================] - 0s 43ms/step\n",
      "Extracting features from images (20736, 20992) out of 31783...\n",
      "1/1 [==============================] - 0s 43ms/step\n",
      "Extracting features from images (20992, 21248) out of 31783...\n",
      "1/1 [==============================] - 0s 50ms/step\n",
      "Extracting features from images (21248, 21504) out of 31783...\n",
      "1/1 [==============================] - 0s 51ms/step\n",
      "Extracting features from images (21504, 21760) out of 31783...\n",
      "1/1 [==============================] - 0s 43ms/step\n",
      "Extracting features from images (21760, 22016) out of 31783...\n",
      "1/1 [==============================] - 0s 46ms/step\n",
      "Extracting features from images (22016, 22272) out of 31783...\n",
      "1/1 [==============================] - 0s 51ms/step\n",
      "Extracting features from images (22272, 22528) out of 31783...\n",
      "1/1 [==============================] - 0s 45ms/step\n",
      "Extracting features from images (22528, 22784) out of 31783...\n",
      "1/1 [==============================] - 0s 44ms/step\n",
      "Extracting features from images (22784, 23040) out of 31783...\n",
      "1/1 [==============================] - 0s 47ms/step\n",
      "Extracting features from images (23040, 23296) out of 31783...\n",
      "1/1 [==============================] - 0s 58ms/step\n",
      "Extracting features from images (23296, 23552) out of 31783...\n",
      "1/1 [==============================] - 0s 47ms/step\n",
      "Extracting features from images (23552, 23808) out of 31783...\n",
      "1/1 [==============================] - 0s 48ms/step\n",
      "Extracting features from images (23808, 24064) out of 31783...\n",
      "1/1 [==============================] - 0s 40ms/step\n",
      "Extracting features from images (24064, 24320) out of 31783...\n",
      "1/1 [==============================] - 0s 40ms/step\n",
      "Extracting features from images (24320, 24576) out of 31783...\n",
      "1/1 [==============================] - 0s 41ms/step\n",
      "Extracting features from images (24576, 24832) out of 31783...\n",
      "1/1 [==============================] - 0s 43ms/step\n",
      "Extracting features from images (24832, 25088) out of 31783...\n",
      "1/1 [==============================] - 0s 41ms/step\n",
      "Extracting features from images (25088, 25344) out of 31783...\n",
      "1/1 [==============================] - 0s 46ms/step\n",
      "Extracting features from images (25344, 25600) out of 31783...\n",
      "1/1 [==============================] - 0s 48ms/step\n",
      "Extracting features from images (25600, 25856) out of 31783...\n",
      "1/1 [==============================] - 0s 40ms/step\n",
      "Extracting features from images (25856, 26112) out of 31783...\n",
      "1/1 [==============================] - 0s 43ms/step\n",
      "Extracting features from images (26112, 26368) out of 31783...\n",
      "1/1 [==============================] - 0s 47ms/step\n",
      "Extracting features from images (26368, 26624) out of 31783...\n",
      "1/1 [==============================] - 0s 41ms/step\n",
      "Extracting features from images (26624, 26880) out of 31783...\n",
      "1/1 [==============================] - 0s 42ms/step\n",
      "Extracting features from images (26880, 27136) out of 31783...\n",
      "1/1 [==============================] - 0s 43ms/step\n",
      "Extracting features from images (27136, 27392) out of 31783...\n",
      "1/1 [==============================] - 0s 46ms/step\n",
      "Extracting features from images (27392, 27648) out of 31783...\n",
      "1/1 [==============================] - 0s 45ms/step\n",
      "Extracting features from images (27648, 27904) out of 31783...\n",
      "1/1 [==============================] - 0s 45ms/step\n",
      "Extracting features from images (27904, 28160) out of 31783...\n",
      "1/1 [==============================] - 0s 45ms/step\n",
      "Extracting features from images (28160, 28416) out of 31783...\n",
      "1/1 [==============================] - 0s 47ms/step\n",
      "Extracting features from images (28416, 28672) out of 31783...\n",
      "1/1 [==============================] - 0s 40ms/step\n",
      "Extracting features from images (28672, 28928) out of 31783...\n",
      "1/1 [==============================] - 0s 47ms/step\n",
      "Extracting features from images (28928, 29184) out of 31783...\n",
      "1/1 [==============================] - 0s 43ms/step\n",
      "Extracting features from images (29184, 29440) out of 31783...\n",
      "1/1 [==============================] - 0s 43ms/step\n",
      "Extracting features from images (29440, 29696) out of 31783...\n",
      "1/1 [==============================] - 0s 41ms/step\n",
      "Extracting features from images (29696, 29952) out of 31783...\n",
      "1/1 [==============================] - 0s 44ms/step\n",
      "Extracting features from images (29952, 30208) out of 31783...\n",
      "1/1 [==============================] - 0s 41ms/step\n",
      "Extracting features from images (30208, 30464) out of 31783...\n",
      "1/1 [==============================] - 0s 44ms/step\n",
      "Extracting features from images (30464, 30720) out of 31783...\n",
      "1/1 [==============================] - 0s 45ms/step\n",
      "Extracting features from images (30720, 30976) out of 31783...\n",
      "1/1 [==============================] - 0s 42ms/step\n",
      "Extracting features from images (30976, 31232) out of 31783...\n",
      "1/1 [==============================] - 0s 40ms/step\n",
      "Extracting features from images (31232, 31488) out of 31783...\n",
      "1/1 [==============================] - 0s 46ms/step\n",
      "Extracting features from images (31488, 31744) out of 31783...\n",
      "1/1 [==============================] - 0s 40ms/step\n",
      "Extracting features from images (31744, 32000) out of 31783...\n",
      "1/1 [==============================] - 1s 684ms/step\n"
     ]
    }
   ],
   "source": [
    "# extract the features from the images\n",
    "# Do it in batches to avoid memory issues\n",
    "batch_size = 256\n",
    "xception_features = []\n",
    "for i in range(0, len(xception_images), batch_size):\n",
    "    print(f\"Extracting features from images ({i}, {i + batch_size}) out of {len(xception_images)}...\")\n",
    "    batch = xception_images[i:i + batch_size]\n",
    "    features = feature_extractor.extract_features(batch)\n",
    "    xception_features.append(features)"
   ]
  },
  {
   "cell_type": "code",
   "execution_count": 12,
   "metadata": {},
   "outputs": [
    {
     "name": "stdout",
     "output_type": "stream",
     "text": [
      "Features shape: (31783, 4, 4, 2048)\n"
     ]
    }
   ],
   "source": [
    "# stack the features into a single numpy array\n",
    "xception_features = np.vstack(xception_features)\n",
    "print(f\"Features shape: {xception_features.shape}\")"
   ]
  },
  {
   "cell_type": "code",
   "execution_count": 14,
   "metadata": {},
   "outputs": [],
   "source": [
    "# save the features\n",
    "save_features(xception_features, \"./data/features/xception_features.pkl\")"
   ]
  }
 ],
 "metadata": {
  "kernelspec": {
   "display_name": "Machine Learning",
   "language": "python",
   "name": "python3"
  },
  "language_info": {
   "codemirror_mode": {
    "name": "ipython",
    "version": 3
   },
   "file_extension": ".py",
   "mimetype": "text/x-python",
   "name": "python",
   "nbconvert_exporter": "python",
   "pygments_lexer": "ipython3",
   "version": "3.10.11"
  },
  "orig_nbformat": 4
 },
 "nbformat": 4,
 "nbformat_minor": 2
}
